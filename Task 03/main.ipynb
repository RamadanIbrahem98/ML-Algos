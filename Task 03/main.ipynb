{
 "cells": [
  {
   "cell_type": "code",
   "execution_count": 1,
   "id": "mediterranean-bubble",
   "metadata": {},
   "outputs": [
    {
     "name": "stdout",
     "output_type": "stream",
     "text": [
      "Downloading cardiovascular-disease-dataset.zip to D:\\SBME\\Fourth Year\\First Semester\\Machine Learning\\Tasks\\ML-Algos\\Task 03\n",
      "\n"
     ]
    },
    {
     "name": "stderr",
     "output_type": "stream",
     "text": [
      "\n",
      "  0%|          | 0.00/742k [00:00<?, ?B/s]\n",
      "100%|##########| 742k/742k [00:00<00:00, 1.25MB/s]\n",
      "100%|##########| 742k/742k [00:00<00:00, 1.25MB/s]\n"
     ]
    }
   ],
   "source": [
    "!kaggle datasets download -d sulianova/cardiovascular-disease-dataset"
   ]
  },
  {
   "cell_type": "code",
   "execution_count": 2,
   "id": "advanced-celtic",
   "metadata": {},
   "outputs": [],
   "source": [
    "!WinRAR.exe x .\\cardiovascular-disease-dataset.zip .\\dataset\\"
   ]
  },
  {
   "cell_type": "code",
   "execution_count": 3,
   "id": "corporate-latex",
   "metadata": {},
   "outputs": [],
   "source": [
    "!rm cardiovascular-disease-dataset.zip"
   ]
  },
  {
   "cell_type": "code",
   "execution_count": null,
   "id": "occasional-category",
   "metadata": {},
   "outputs": [],
   "source": []
  }
 ],
 "metadata": {
  "kernelspec": {
   "display_name": "Python 3",
   "language": "python",
   "name": "python3"
  },
  "language_info": {
   "codemirror_mode": {
    "name": "ipython",
    "version": 3
   },
   "file_extension": ".py",
   "mimetype": "text/x-python",
   "name": "python",
   "nbconvert_exporter": "python",
   "pygments_lexer": "ipython3",
   "version": "3.8.3"
  }
 },
 "nbformat": 4,
 "nbformat_minor": 5
}
