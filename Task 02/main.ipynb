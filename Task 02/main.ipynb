{
 "cells": [
  {
   "cell_type": "markdown",
   "id": "worst-colonial",
   "metadata": {},
   "source": [
    "## Importing Libraries"
   ]
  },
  {
   "cell_type": "code",
   "execution_count": 1,
   "id": "neural-tonight",
   "metadata": {},
   "outputs": [],
   "source": [
    "import numpy as np\n",
    "import pandas as pd\n",
    "import matplotlib.pyplot as plt\n",
    "\n",
    "%matplotlib inline\n",
    "plt.style.use('ggplot')"
   ]
  },
  {
   "cell_type": "markdown",
   "id": "victorian-preserve",
   "metadata": {},
   "source": [
    "## Importing the Dataset"
   ]
  },
  {
   "cell_type": "code",
   "execution_count": 2,
   "id": "voluntary-generation",
   "metadata": {},
   "outputs": [],
   "source": [
    "uniVariateData = pd.read_csv('univariateData.dat')"
   ]
  },
  {
   "cell_type": "code",
   "execution_count": 3,
   "id": "contemporary-azerbaijan",
   "metadata": {
    "tags": []
   },
   "outputs": [
    {
     "data": {
      "text/html": [
       "<div>\n",
       "<style scoped>\n",
       "    .dataframe tbody tr th:only-of-type {\n",
       "        vertical-align: middle;\n",
       "    }\n",
       "\n",
       "    .dataframe tbody tr th {\n",
       "        vertical-align: top;\n",
       "    }\n",
       "\n",
       "    .dataframe thead th {\n",
       "        text-align: right;\n",
       "    }\n",
       "</style>\n",
       "<table border=\"1\" class=\"dataframe\">\n",
       "  <thead>\n",
       "    <tr style=\"text-align: right;\">\n",
       "      <th></th>\n",
       "      <th>6.1101</th>\n",
       "      <th>17.592</th>\n",
       "    </tr>\n",
       "  </thead>\n",
       "  <tbody>\n",
       "    <tr>\n",
       "      <th>0</th>\n",
       "      <td>5.5277</td>\n",
       "      <td>9.1302</td>\n",
       "    </tr>\n",
       "    <tr>\n",
       "      <th>1</th>\n",
       "      <td>8.5186</td>\n",
       "      <td>13.6620</td>\n",
       "    </tr>\n",
       "    <tr>\n",
       "      <th>2</th>\n",
       "      <td>7.0032</td>\n",
       "      <td>11.8540</td>\n",
       "    </tr>\n",
       "    <tr>\n",
       "      <th>3</th>\n",
       "      <td>5.8598</td>\n",
       "      <td>6.8233</td>\n",
       "    </tr>\n",
       "    <tr>\n",
       "      <th>4</th>\n",
       "      <td>8.3829</td>\n",
       "      <td>11.8860</td>\n",
       "    </tr>\n",
       "  </tbody>\n",
       "</table>\n",
       "</div>"
      ],
      "text/plain": [
       "   6.1101   17.592\n",
       "0  5.5277   9.1302\n",
       "1  8.5186  13.6620\n",
       "2  7.0032  11.8540\n",
       "3  5.8598   6.8233\n",
       "4  8.3829  11.8860"
      ]
     },
     "execution_count": 3,
     "metadata": {},
     "output_type": "execute_result"
    }
   ],
   "source": [
    "uniVariateData.head()"
   ]
  },
  {
   "cell_type": "code",
   "execution_count": 4,
   "id": "accepted-celebrity",
   "metadata": {},
   "outputs": [
    {
     "data": {
      "text/html": [
       "<div>\n",
       "<style scoped>\n",
       "    .dataframe tbody tr th:only-of-type {\n",
       "        vertical-align: middle;\n",
       "    }\n",
       "\n",
       "    .dataframe tbody tr th {\n",
       "        vertical-align: top;\n",
       "    }\n",
       "\n",
       "    .dataframe thead th {\n",
       "        text-align: right;\n",
       "    }\n",
       "</style>\n",
       "<table border=\"1\" class=\"dataframe\">\n",
       "  <thead>\n",
       "    <tr style=\"text-align: right;\">\n",
       "      <th></th>\n",
       "      <th>6.1101</th>\n",
       "      <th>17.592</th>\n",
       "    </tr>\n",
       "  </thead>\n",
       "  <tbody>\n",
       "    <tr>\n",
       "      <th>count</th>\n",
       "      <td>96.000000</td>\n",
       "      <td>96.000000</td>\n",
       "    </tr>\n",
       "    <tr>\n",
       "      <th>mean</th>\n",
       "      <td>8.181151</td>\n",
       "      <td>5.716709</td>\n",
       "    </tr>\n",
       "    <tr>\n",
       "      <th>std</th>\n",
       "      <td>3.884451</td>\n",
       "      <td>5.404947</td>\n",
       "    </tr>\n",
       "    <tr>\n",
       "      <th>min</th>\n",
       "      <td>5.026900</td>\n",
       "      <td>-2.680700</td>\n",
       "    </tr>\n",
       "    <tr>\n",
       "      <th>25%</th>\n",
       "      <td>5.690950</td>\n",
       "      <td>1.952550</td>\n",
       "    </tr>\n",
       "    <tr>\n",
       "      <th>50%</th>\n",
       "      <td>6.735950</td>\n",
       "      <td>4.455300</td>\n",
       "    </tr>\n",
       "    <tr>\n",
       "      <th>75%</th>\n",
       "      <td>8.639925</td>\n",
       "      <td>6.879150</td>\n",
       "    </tr>\n",
       "    <tr>\n",
       "      <th>max</th>\n",
       "      <td>22.203000</td>\n",
       "      <td>24.147000</td>\n",
       "    </tr>\n",
       "  </tbody>\n",
       "</table>\n",
       "</div>"
      ],
      "text/plain": [
       "          6.1101     17.592\n",
       "count  96.000000  96.000000\n",
       "mean    8.181151   5.716709\n",
       "std     3.884451   5.404947\n",
       "min     5.026900  -2.680700\n",
       "25%     5.690950   1.952550\n",
       "50%     6.735950   4.455300\n",
       "75%     8.639925   6.879150\n",
       "max    22.203000  24.147000"
      ]
     },
     "execution_count": 4,
     "metadata": {},
     "output_type": "execute_result"
    }
   ],
   "source": [
    "uniVariateData.describe()"
   ]
  },
  {
   "cell_type": "code",
   "execution_count": 5,
   "id": "subject-focus",
   "metadata": {},
   "outputs": [],
   "source": [
    "features = uniVariateData.iloc[:, :-1].values\n",
    "dependant_variable = uniVariateData.iloc[:, -1].values"
   ]
  },
  {
   "cell_type": "markdown",
   "id": "jewish-azerbaijan",
   "metadata": {},
   "source": [
    "## Splitting into training and test sets"
   ]
  },
  {
   "cell_type": "code",
   "execution_count": 6,
   "id": "consolidated-sleep",
   "metadata": {},
   "outputs": [],
   "source": [
    "from sklearn.model_selection import train_test_split\n",
    "X_train, X_test, y_train, y_test = train_test_split(features, dependant_variable, test_size = 1/3, random_state = 0)"
   ]
  },
  {
   "cell_type": "markdown",
   "id": "experienced-allah",
   "metadata": {},
   "source": [
    "## Training the simple linear regression model"
   ]
  },
  {
   "cell_type": "code",
   "execution_count": 7,
   "id": "developing-leeds",
   "metadata": {},
   "outputs": [
    {
     "data": {
      "text/plain": [
       "LinearRegression()"
      ]
     },
     "execution_count": 7,
     "metadata": {},
     "output_type": "execute_result"
    }
   ],
   "source": [
    "from sklearn.linear_model import LinearRegression\n",
    "regressor = LinearRegression()\n",
    "regressor.fit(X_train, y_train)"
   ]
  },
  {
   "cell_type": "markdown",
   "id": "virgin-indication",
   "metadata": {},
   "source": [
    "## Predicting the test results"
   ]
  },
  {
   "cell_type": "code",
   "execution_count": 10,
   "id": "acceptable-helena",
   "metadata": {},
   "outputs": [],
   "source": [
    "y_pred = regressor.predict(X_test)"
   ]
  },
  {
   "cell_type": "markdown",
   "id": "gothic-century",
   "metadata": {},
   "source": [
    "## Visualize the regressor line"
   ]
  },
  {
   "cell_type": "code",
   "execution_count": 11,
   "id": "pursuant-observation",
   "metadata": {},
   "outputs": [
    {
     "data": {
      "image/png": "[encoded data removed]",
      "text/plain": [
       "<Figure size 432x288 with 1 Axes>"
      ]
     },
     "metadata": {},
     "output_type": "display_data"
    }
   ],
   "source": [
    "plt.scatter(X_train, y_train, color = 'red')\n",
    "plt.plot(X_train, regressor.predict(X_train), color = 'blue')\n",
    "plt.title('Uni-variate Data')\n",
    "plt.xlabel('Independant Variable')\n",
    "plt.ylabel('Dependant Variable')\n",
    "plt.show()"
   ]
  },
  {
   "cell_type": "markdown",
   "id": "starting-gregory",
   "metadata": {},
   "source": [
    "-----------------------"
   ]
  },
  {
   "cell_type": "markdown",
   "id": "eight-pittsburgh",
   "metadata": {},
   "source": [
    "## Create the linear regression implementation"
   ]
  },
  {
   "cell_type": "code",
   "execution_count": 17,
   "id": "environmental-skill",
   "metadata": {},
   "outputs": [],
   "source": [
    "import matplotlib.pyplot as plt \n",
    "\n",
    "class LinearRegression:\n",
    "    def __init__(self, alpha=0.01, max_iterations=1000, visualize=True, normalize=False):\n",
    "        \n",
    "        self.alpha = alpha\n",
    "        self.max_iterations = max_iterations\n",
    "        self.visualize = visualize\n",
    "        self.normalize = normalize\n",
    "\n",
    "    def fit(self, X, y):\n",
    "        self.m, self.n = X.shape\n",
    "        self.theta = np.zeros((self.n, 1))\n",
    "        self.X = X\n",
    "        self.y = y\n",
    "\n",
    "        if self.normalize:\n",
    "            self.X = self.normalize_features(self.X)\n",
    "\n",
    "        for i in range(self.max_iterations):\n",
    "            self.gradient_descent()\n",
    "            self.cost_function()\n",
    "        if self.visualize:\n",
    "            self.plot()\n",
    "    def normalize_features(self, X):\n",
    "        mean = np.mean(X, axis=0)\n",
    "        std = np.std(X, axis=0)\n",
    "        return (X - mean) / std\n",
    "    def predict(self, X):\n",
    "        if self.normalize:\n",
    "            X = self.normalize_features(X)\n",
    "        return X.dot(self.theta)\n",
    "    def gradient_descent(self):\n",
    "        self.theta = self.theta - self.alpha * self.cost_function_derivative()\n",
    "    def cost_function(self):\n",
    "        self.cost = np.sum((self.X.dot(self.theta) - self.y) ** 2) / (2 * self.m)\n",
    "    def cost_function_derivative(self):\n",
    "        return (self.X.T.dot(self.X.dot(self.theta) - self.y) / self.m)\n",
    "    def plot(self):\n",
    "        plt.scatter(self.X, self.y)\n",
    "        plt.plot(self.X, self.predict(self.X), color='blue')\n",
    "        plt.show()"
   ]
  },
  {
   "cell_type": "code",
   "execution_count": 18,
   "id": "exotic-henry",
   "metadata": {},
   "outputs": [
    {
     "data": {
      "image/png": "[encoded data removed]",
      "text/plain": [
       "<Figure size 432x288 with 1 Axes>"
      ]
     },
     "metadata": {},
     "output_type": "display_data"
    }
   ],
   "source": [
    "import pandas as pd\n",
    "import numpy as np\n",
    "from sklearn.model_selection import train_test_split\n",
    "\n",
    "data = pd.read_csv(\"uniVariateData.dat\", header=None)\n",
    "\n",
    "X, y = data.iloc[:, :-1].values, data.iloc[:, -1].values\n",
    "\n",
    "y = y.reshape(-1, 1)\n",
    "\n",
    "X_train, X_test, y_train, y_test = train_test_split(X, y)\n",
    "\n",
    "lr_clf = LinearRegression(alpha=0.01, max_iterations=1500, visualize=True)\n",
    "\n",
    "lr_clf.fit(X_train, y_train)"
   ]
  },
  {
   "cell_type": "code",
   "execution_count": 14,
   "id": "catholic-television",
   "metadata": {},
   "outputs": [
    {
     "name": "stdout",
     "output_type": "stream",
     "text": [
      "2.9002672873632482\n"
     ]
    }
   ],
   "source": [
    "from sklearn.metrics import mean_squared_error\n",
    "\n",
    "y_predicted = lr_clf.predict(X_test)\n",
    "\n",
    "print(mean_squared_error(y_test, y_predicted, squared=False))"
   ]
  },
  {
   "cell_type": "code",
   "execution_count": 28,
   "id": "needed-trout",
   "metadata": {},
   "outputs": [],
   "source": [
    "import pandas as pd\n",
    "import numpy as np\n",
    "from sklearn.model_selection import train_test_split\n",
    "\n",
    "data = pd.read_csv(\"multivariateData.dat\", header=None)\n",
    "\n",
    "X, y = data.iloc[:, :-1].values, data.iloc[:, -1].values\n",
    "\n",
    "y = y.reshape(-1, 1)\n",
    "\n",
    "X_train, X_test, y_train, y_test = train_test_split(X, y)\n",
    "\n",
    "lr_clf = LinearRegression(alpha=0.01, max_iterations=1500, visualize=False, normalize=True)\n",
    "\n",
    "lr_clf.fit(X_train, y_train)"
   ]
  },
  {
   "cell_type": "code",
   "execution_count": 29,
   "id": "2d3cc072",
   "metadata": {},
   "outputs": [
    {
     "name": "stdout",
     "output_type": "stream",
     "text": [
      "367891.4166666667\n"
     ]
    }
   ],
   "source": [
    "y_predicted = lr_clf.predict(X_test)\n",
    "\n",
    "def mean_squared_error(y_true, y_predicted, squared=True):\n",
    "    if squared:\n",
    "        return np.mean((y_true - y_predicted) ** 2)\n",
    "    else:\n",
    "        return np.mean(np.abs(y_true - y_predicted))\n",
    "\n",
    "print(mean_squared_error(y_test, y_predicted, squared=False))"
   ]
  },
  {
   "cell_type": "markdown",
   "id": "e380f550",
   "metadata": {},
   "source": [
    "## using Lasso Regression"
   ]
  },
  {
   "cell_type": "code",
   "execution_count": 30,
   "id": "c9a33d51",
   "metadata": {},
   "outputs": [],
   "source": [
    "def normalize_features(X):\n",
    "        mean = np.mean(X, axis=0)\n",
    "        std = np.std(X, axis=0)\n",
    "        return (X - mean) / std"
   ]
  },
  {
   "cell_type": "code",
   "execution_count": 31,
   "id": "353ee960",
   "metadata": {},
   "outputs": [
    {
     "name": "stdout",
     "output_type": "stream",
     "text": [
      "67668.37964147485\n"
     ]
    }
   ],
   "source": [
    "from sklearn.linear_model import Lasso\n",
    "\n",
    "lm_clf = Lasso(alpha=0.1)\n",
    "X_train_normalized = normalize_features(X_train)\n",
    "lm_clf.fit(X_train_normalized, y_train)\n",
    "X_test_normalized = normalize_features(X_test)\n",
    "y_predict = lm_clf.predict(X_test_normalized).reshape(-1, 1)\n",
    "\n",
    "def mean_squared_error(y_true, y_predicted, squared=True):\n",
    "    if squared:\n",
    "        return np.mean((y_true - y_predicted) ** 2)\n",
    "    else:\n",
    "        return np.mean(np.abs(y_true - y_predicted))\n",
    "\n",
    "# get mean squared error\n",
    "print(mean_squared_error(y_test, y_predict, squared=False))"
   ]
  },
  {
   "cell_type": "markdown",
   "id": "1acea1ea",
   "metadata": {},
   "source": [
    "From the previous output. The Lasso algorithm gave a very smaller RMS error"
   ]
  },
  {
   "cell_type": "markdown",
   "id": "4c94281f",
   "metadata": {},
   "source": []
  }
 ],
 "metadata": {
  "kernelspec": {
   "display_name": "Python 3",
   "language": "python",
   "name": "python3"
  },
  "language_info": {
   "codemirror_mode": {
    "name": "ipython",
    "version": 3
   },
   "file_extension": ".py",
   "mimetype": "text/x-python",
   "name": "python",
   "nbconvert_exporter": "python",
   "pygments_lexer": "ipython3",
   "version": "3.8.3"
  }
 },
 "nbformat": 4,
 "nbformat_minor": 5
}
